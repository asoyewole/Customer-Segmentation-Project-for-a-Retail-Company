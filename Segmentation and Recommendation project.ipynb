{
 "cells": [
  {
   "cell_type": "code",
   "execution_count": 1,
   "id": "4c606d2d-091b-4966-88b5-245bf89cf6dd",
   "metadata": {
    "tags": []
   },
   "outputs": [],
   "source": [
    "import pandas as pd\n"
   ]
  },
  {
   "cell_type": "markdown",
   "id": "8fe2e299-bb47-4640-a257-fe5fd3a6988f",
   "metadata": {},
   "source": [
    "# Introduction\n",
    "In this project, I will explore the world of online retail by analyzing the online retail dataset for a UK-based retailer. The dataset is available at the [UCI data repository](https://archive.ics.uci.edu/dataset/352/online+retail). The purchasing behavior of the customers will be explored and the "
   ]
  },
  {
   "cell_type": "code",
   "execution_count": null,
   "id": "d03b2ba7-cc71-49eb-8154-447409f606c8",
   "metadata": {},
   "outputs": [],
   "source": []
  }
 ],
 "metadata": {
  "kernelspec": {
   "display_name": "Python 3 (ipykernel)",
   "language": "python",
   "name": "python3"
  },
  "language_info": {
   "codemirror_mode": {
    "name": "ipython",
    "version": 3
   },
   "file_extension": ".py",
   "mimetype": "text/x-python",
   "name": "python",
   "nbconvert_exporter": "python",
   "pygments_lexer": "ipython3",
   "version": "3.11.5"
  }
 },
 "nbformat": 4,
 "nbformat_minor": 5
}
