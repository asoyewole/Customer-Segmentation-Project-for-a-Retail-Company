{
 "cells": [
  {
   "cell_type": "code",
   "execution_count": 1,
   "id": "4c606d2d-091b-4966-88b5-245bf89cf6dd",
   "metadata": {
    "tags": []
   },
   "outputs": [],
   "source": [
    "# Libraries used in the model are imported here for easy access\n",
    "import pandas as pd\n"
   ]
  },
  {
   "cell_type": "markdown",
   "id": "da476bfa",
   "metadata": {},
   "source": [
    "# Contents"
   ]
  },
  {
   "cell_type": "markdown",
   "id": "8fe2e299-bb47-4640-a257-fe5fd3a6988f",
   "metadata": {},
   "source": [
    "# Introduction\n",
    " In this project, I take the CRISP-DM (Cross-Industry Standard Process for Data Mining) approach to extract value from business data. The case study is an online retail company registered in the UK with customers from various countries. The raw dataset used for the project is available at the [UCI data repository](https://archive.ics.uci.edu/dataset/352/online+retail).  \n",
    "\n",
    "The focus of this project is to demonstrate expertise in Data Management and Machine Learning operations. The project includes the establishment of an analytical Dimensional Database model using the star schema. To create more fields for the Database model, the base  dataset from UCI is augmented with generated data using the python faker library. Ultimately, only the original data is queried from the denormalized database and used to create a segmentation and recommendation system for the business."
   ]
  },
  {
   "cell_type": "markdown",
   "id": "d03b2ba7-cc71-49eb-8154-447409f606c8",
   "metadata": {},
   "source": [
    "# CRISP-DM: Business Understanding\n",
    "\n",
    "Like any typical online business, cross-selling and up-selling to existing customers is a key success factor. From their data records, the company in this case study has thousands of customers. It is inpractical to review their preferences manually and make related recommendations. It is also important for an online retail company to be aware of the habits of their customers so that they can tailor their advertisements and promotions to specific and relevant customer groups. An automated system that understands the customer's behaviour based on previous purchasing decisions will help the company resolve this challenge. The system could also go further to recommend relevant products to the customers. It is best if this recommendation takes place while the customer is still on the website, rather than via email campaigns or subsequent phone calls. The system therefore has to function in real-time."
   ]
  },
  {
   "cell_type": "markdown",
   "id": "18d007f9",
   "metadata": {},
   "source": [
    "# CRISP-DM: Data Understanding\n"
   ]
  },
  {
   "cell_type": "markdown",
   "id": "1acfe387",
   "metadata": {},
   "source": []
  }
 ],
 "metadata": {
  "kernelspec": {
   "display_name": "Python 3 (ipykernel)",
   "language": "python",
   "name": "python3"
  },
  "language_info": {
   "codemirror_mode": {
    "name": "ipython",
    "version": 3
   },
   "file_extension": ".py",
   "mimetype": "text/x-python",
   "name": "python",
   "nbconvert_exporter": "python",
   "pygments_lexer": "ipython3",
   "version": "3.10.12"
  }
 },
 "nbformat": 4,
 "nbformat_minor": 5
}
